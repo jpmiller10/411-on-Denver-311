{
 "cells": [
  {
   "cell_type": "code",
   "execution_count": null,
   "metadata": {},
   "outputs": [],
   "source": [
    "import numpy as np\n",
    "import pandas as pd\n",
    "import datetime\n",
    "import geopandas\n",
    "import json\n",
    "import os\n",
    "import folium\n",
    "from folium.plugins import HeatMap"
   ]
  },
  {
   "cell_type": "code",
   "execution_count": null,
   "metadata": {},
   "outputs": [],
   "source": [
    "def read_map_df(file_path):\n",
    "    '''\n",
    "    Creates dataframe for mapping created in data_cleaner.py:   \n",
    "    Arguments:\n",
    "        file_path: filepath for the .csv file as a str i.e. 'data/geo_requests_2018_pickled_df'\n",
    "        df_year: df_{year of the data} i.e. 2018 > df_2018\n",
    "    Returns:\n",
    "        df: dataframe\n",
    "    '''\n",
    "    df= pd.read_pickle(file_path)\n",
    "    return df"
   ]
  },
  {
   "cell_type": "code",
   "execution_count": null,
   "metadata": {},
   "outputs": [],
   "source": [
    "def create_map(map_name, latitude, longitude, style = \"Stamen Toner\", zoom = 11):\n",
    "    '''\n",
    "    Creates basemap based on location:   \n",
    "    Arguments:\n",
    "        map_name: name of map in str\n",
    "        latitude: int of latitude of starting point\n",
    "        longitude: int of longitude of starting point\n",
    "        style: str of style of folium basemap\n",
    "        zoom: int of starting zoom for basemap\n",
    "    Returns:\n",
    "        none\n",
    "    '''\n",
    "    map_name = folium.Map(location=[latitude,longitude],\n",
    "                        zoom_start=zoom,\n",
    "                        tiles=style)\n",
    "    return map_name"
   ]
  },
  {
   "cell_type": "code",
   "execution_count": null,
   "metadata": {},
   "outputs": [],
   "source": [
    "def plot_requests(df, feature_map, color):\n",
    "    '''\n",
    "    Plots coordinates on interactive map\n",
    "    Arguments:\n",
    "        df -> Filtered dataframe only containing relevant datapoints\n",
    "        feature_map -> the Feature group the points will be added to\n",
    "        color -> color of dots    \n",
    "    Return:\n",
    "        none\n",
    "    '''\n",
    "    for index, row in df.iterrows():\n",
    "        folium.CircleMarker(location=(row['Latitude'], row['Longitude']),\n",
    "                                    radius=.75,\n",
    "                                    color=color,\n",
    "                                    popup = str('Case Summary: ' + str(row['Case Summary']) \\\n",
    "                                        + '\\nAgency: ' + str(row['Agency']) \\\n",
    "                                        + '\\nCase Opened: ' + str(row['Case Created dttm']) \\\n",
    "                                        + '\\nResponse Time: '+ str(row['Response Time'])\n",
    "                                             ),\n",
    "                                    fill=True).add_to(feature_map)"
   ]
  },
  {
   "cell_type": "code",
   "execution_count": null,
   "metadata": {},
   "outputs": [],
   "source": [
    "geodf = read_map_df('data/geo_requests_2018_pickled_df')\n",
    "denver_map = create_map('denver_map', 39.75782, -104.831338)"
   ]
  },
  {
   "cell_type": "code",
   "execution_count": null,
   "metadata": {},
   "outputs": [],
   "source": [
    "pr_map = folium.FeatureGroup(name = 'Parks & Recreation')\n",
    "pr_df = geodf.groupby('Agency').get_group('Parks & Recreation')\n",
    "plot_requests(pr_df, pr_map, \"#709b00\") \n",
    "denver_map.add_child(pr_map)"
   ]
  },
  {
   "cell_type": "code",
   "execution_count": null,
   "metadata": {},
   "outputs": [],
   "source": [
    "ea_map = folium.FeatureGroup(name = 'External Agency')\n",
    "ea_df = geodf.groupby('Agency').get_group('External Agency')\n",
    "plot_requests(ea_df, ea_map, \"#bc329c\") \n",
    "denver_map.add_child(ea_map) "
   ]
  },
  {
   "cell_type": "code",
   "execution_count": null,
   "metadata": {},
   "outputs": [],
   "source": [
    "eh_map = folium.FeatureGroup(name = 'Environmental Health')\n",
    "eh_df = geodf.groupby('Agency').get_group('Environmental Health')\n",
    "plot_requests(eh_df, eh_map, \"#eb3c6c\")\n",
    "denver_map.add_child(eh_map) "
   ]
  },
  {
   "cell_type": "code",
   "execution_count": null,
   "metadata": {},
   "outputs": [],
   "source": [
    "folium.LayerControl().add_to(denver_map)"
   ]
  },
  {
   "cell_type": "code",
   "execution_count": null,
   "metadata": {},
   "outputs": [],
   "source": [
    "denver_map"
   ]
  },
  {
   "cell_type": "code",
   "execution_count": null,
   "metadata": {},
   "outputs": [],
   "source": []
  }
 ],
 "metadata": {
  "kernelspec": {
   "display_name": "Python 3",
   "language": "python",
   "name": "python3"
  },
  "language_info": {
   "codemirror_mode": {
    "name": "ipython",
    "version": 3
   },
   "file_extension": ".py",
   "mimetype": "text/x-python",
   "name": "python",
   "nbconvert_exporter": "python",
   "pygments_lexer": "ipython3",
   "version": "3.7.4"
  }
 },
 "nbformat": 4,
 "nbformat_minor": 2
}
