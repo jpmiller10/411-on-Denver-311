{
 "nbformat": 4,
 "nbformat_minor": 2,
 "metadata": {
  "language_info": {
   "name": "python",
   "codemirror_mode": {
    "name": "ipython",
    "version": 3
   },
   "version": "3.7.4-final"
  },
  "orig_nbformat": 2,
  "file_extension": ".py",
  "mimetype": "text/x-python",
  "name": "python",
  "npconvert_exporter": "python",
  "pygments_lexer": "ipython3",
  "version": 3,
  "kernelspec": {
   "name": "python3",
   "display_name": "Python 3"
  }
 },
 "cells": [
  {
   "cell_type": "code",
   "execution_count": 1,
   "metadata": {},
   "outputs": [],
   "source": [
    "import numpy as np\n",
    "import pandas as pd\n",
    "import datetime\n",
    "import json\n",
    "import os\n",
    "import folium\n",
    "from folium.plugins import HeatMap"
   ]
  },
  {
   "cell_type": "code",
   "execution_count": 65,
   "metadata": {},
   "outputs": [
    {
     "output_type": "execute_result",
     "data": {
      "text/plain": "<folium.features.GeoJson at 0x120a87810>"
     },
     "metadata": {},
     "execution_count": 65
    }
   ],
   "source": [
    "denver_map = folium.Map(location=[39.75782,-104.831338],\n",
    "                        zoom_start=11,\n",
    "                        tiles=\"Stamen Toner\")\n",
    "\n",
    "f = open('data/nbh_stats.json',) \n",
    "nbh_data = json.load(f) \n",
    "nbhtt= folium.GeoJsonTooltip(fields=('NBHD_NAME',), labels=False, sticky=False)\n",
    "\n",
    "folium.GeoJson(\n",
    "    nbh_data,\n",
    "    style_function=lambda feature: {\n",
    "        'fillColor': '#ffff00',\n",
    "        'color': 'black',\n",
    "        'weight': 2,\n",
    "        'dashArray': '5, 5'\n",
    "    },\n",
    "    name='Neighborhood Boundries', \n",
    "    tooltip= nbhtt\n",
    ").add_to(denver_map)"
   ]
  },
  {
   "cell_type": "code",
   "execution_count": null,
   "metadata": {},
   "outputs": [],
   "source": []
  },
  {
   "cell_type": "code",
   "execution_count": null,
   "metadata": {},
   "outputs": [],
   "source": []
  },
  {
   "cell_type": "code",
   "execution_count": null,
   "metadata": {},
   "outputs": [],
   "source": []
  }
 ]
}