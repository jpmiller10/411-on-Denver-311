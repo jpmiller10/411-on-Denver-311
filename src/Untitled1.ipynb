{
 "cells": [
  {
   "cell_type": "code",
   "execution_count": 1,
   "metadata": {},
   "outputs": [],
   "source": [
    "from shapely.geometry import Point, Polygon, MultiPolygon\n",
    "import numpy as np\n",
    "import pandas as pd\n",
    "import datetime\n",
    "import json\n",
    "import os\n",
    "from pandas.io.json import json_normalize"
   ]
  },
  {
   "cell_type": "code",
   "execution_count": 10,
   "metadata": {},
   "outputs": [],
   "source": [
    "df_nbh_stats = pd.read_json('data/nbh_stats.json')\n",
    "df_nbh = json_normalize(df_nbh_stats[\"features\"])\n",
    "#remove all unnecessary data - NBHD_NAME, shape, and coordinates will remain\n",
    "df_nbh_shapes = df_nbh.drop(['type', 'properties.NBHD_ID', 'properties.TYPOLOGY', 'properties.NOTES'], axis =1)\n",
    "\n",
    "df_nbh_shapes['geometry.type']= df_nbh_shapes['geometry.type'].astype(\"category\") "
   ]
  },
  {
   "cell_type": "code",
   "execution_count": 16,
   "metadata": {},
   "outputs": [
    {
     "ename": "SyntaxError",
     "evalue": "invalid syntax (<ipython-input-16-631e668e4463>, line 3)",
     "output_type": "error",
     "traceback": [
      "\u001b[0;36m  File \u001b[0;32m\"<ipython-input-16-631e668e4463>\"\u001b[0;36m, line \u001b[0;32m3\u001b[0m\n\u001b[0;31m    for nbh in df2['geometry.coordinates']:\u001b[0m\n\u001b[0m                                          ^\u001b[0m\n\u001b[0;31mSyntaxError\u001b[0m\u001b[0;31m:\u001b[0m invalid syntax\n"
     ]
    }
   ],
   "source": [
    "def to_neighborhood(df1):\n",
    "    point = Point(df1(['Latitude', 'Longitude'])\n",
    "    for nbh in df2['geometry.coordinates']:\n",
    "        if point.within(df2['geometry.type']) == True:\n",
    "            df1.Neighborhood = df2.properties.NBHD_ID"
   ]
  },
  {
   "cell_type": "code",
   "execution_count": 8,
   "metadata": {},
   "outputs": [
    {
     "name": "stdout",
     "output_type": "stream",
     "text": [
      "/Users/josh/galvanize/repos/411-on-Denver-311\n"
     ]
    }
   ],
   "source": [
    "cd .."
   ]
  },
  {
   "cell_type": "code",
   "execution_count": null,
   "metadata": {},
   "outputs": [],
   "source": []
  }
 ],
 "metadata": {
  "kernelspec": {
   "display_name": "Python 3",
   "language": "python",
   "name": "python3"
  },
  "language_info": {
   "codemirror_mode": {
    "name": "ipython",
    "version": 3
   },
   "file_extension": ".py",
   "mimetype": "text/x-python",
   "name": "python",
   "nbconvert_exporter": "python",
   "pygments_lexer": "ipython3",
   "version": "3.7.4"
  }
 },
 "nbformat": 4,
 "nbformat_minor": 2
}
